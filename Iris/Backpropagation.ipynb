{
 "cells": [
  {
   "cell_type": "code",
   "execution_count": null,
   "id": "7529b1c3",
   "metadata": {},
   "outputs": [],
   "source": [
    "import numpy as np\n",
    "from sklearn.datasets import load_iris\n",
    "from sklearn.model_selection import train_test_split\n",
    "from sklearn.preprocessing import OneHotEncoder\n",
    "\n",
    "iris = load_iris()\n",
    "X = iris.data\n",
    "Y = iris.target.reshape(-1, 1)\n",
    "\n",
    "encoder = OneHotEncoder(sparse_output=False)\n",
    "Y = encoder.fit_transform(Y)\n",
    "\n",
    "X_train, X_test, Y_train, Y_test = train_test_split(X, Y, test_size=0.2, random_state=42)"
   ]
  },
  {
   "cell_type": "code",
   "execution_count": null,
   "id": "55d0e50f",
   "metadata": {},
   "outputs": [],
   "source": [
    "input_size = X_train.shape[1]\n",
    "hidden_size = 10\n",
    "output_size = Y_train.shape[1]\n",
    "\n",
    "np.random.seed(42)\n",
    "W1 = np.random.randn(input_size, hidden_size) * 0.01\n",
    "b1 = np.zeros((1, hidden_size))\n",
    "W2 = np.random.randn(hidden_size, output_size) * 0.01\n",
    "b2 = np.zeros((1, output_size))"
   ]
  },
  {
   "cell_type": "code",
   "execution_count": null,
   "id": "5961915e",
   "metadata": {},
   "outputs": [],
   "source": [
    "def sigmoid(x):\n",
    "    return 1 / (1 + np.exp(-x))\n",
    "\n",
    "def sigmoid_derivative(x):\n",
    "    return x * (1 - x)\n",
    "\n",
    "def forward(X):\n",
    "    Z1 = np.dot(X, W1) + b1\n",
    "    A1 = sigmoid(Z1)\n",
    "    Z2 = np.dot(A1, W2) + b2\n",
    "    A2 = sigmoid(Z2)\n",
    "    return A1, A2\n",
    "\n",
    "def backprop(X, Y, A1, A2, learning_rate=0.1):\n",
    "    global W1, b1, W2, b2\n",
    "    m = X.shape[0]\n",
    "    \n",
    "    dZ2 = A2 - Y\n",
    "    dW2 = np.dot(A1.T, dZ2) / m\n",
    "    db2 = np.sum(dZ2, axis=0, keepdims=True) / m\n",
    "    \n",
    "    dA1 = np.dot(dZ2, W2.T)\n",
    "    dZ1 = dA1 * sigmoid_derivative(A1)\n",
    "    dW1 = np.dot(X.T, dZ1) / m\n",
    "    db1 = np.sum(dZ1, axis=0, keepdims=True) / m\n",
    "    \n",
    "    W1 -= learning_rate * dW1\n",
    "    b1 -= learning_rate * db1\n",
    "    W2 -= learning_rate * dW2\n",
    "    b2 -= learning_rate * db2"
   ]
  },
  {
   "cell_type": "code",
   "execution_count": null,
   "id": "6bf6f03f",
   "metadata": {},
   "outputs": [
    {
     "name": "stdout",
     "output_type": "stream",
     "text": [
      "Epoch 0, Loss: 0.249872677865904\n",
      "Epoch 1000, Loss: 0.04172626462073474\n",
      "Epoch 2000, Loss: 0.014486031186898868\n",
      "Epoch 3000, Loss: 0.012498276650596425\n",
      "Epoch 4000, Loss: 0.011898005334734759\n",
      "Epoch 5000, Loss: 0.011619022029999872\n",
      "Epoch 6000, Loss: 0.011457480563977055\n",
      "Epoch 7000, Loss: 0.011349963074894437\n",
      "Epoch 8000, Loss: 0.011270930887059421\n",
      "Epoch 9000, Loss: 0.011208269404599881\n"
     ]
    }
   ],
   "source": [
    "num_epochs = 10000\n",
    "for epoch in range(num_epochs):\n",
    "    A1, A2 = forward(X_train)\n",
    "    backprop(X_train, Y_train, A1, A2)\n",
    "    if epoch % 1000 == 0:\n",
    "        loss = np.mean((Y_train - A2) ** 2)\n",
    "        print(f\"Epoch {epoch}, Loss: {loss}\")"
   ]
  },
  {
   "cell_type": "code",
   "execution_count": null,
   "id": "374536c8",
   "metadata": {},
   "outputs": [
    {
     "name": "stdout",
     "output_type": "stream",
     "text": [
      "Test Accuracy: 1.0\n"
     ]
    }
   ],
   "source": [
    "_, Y_pred = forward(X_test)\n",
    "Y_pred_labels = np.argmax(Y_pred, axis=1)\n",
    "Y_test_labels = np.argmax(Y_test, axis=1)\n",
    "\n",
    "accuracy = np.mean(Y_pred_labels == Y_test_labels)\n",
    "print(f\"Test Accuracy: {accuracy}\")"
   ]
  },
  {
   "cell_type": "code",
   "execution_count": 8,
   "id": "1591bbaf",
   "metadata": {},
   "outputs": [
    {
     "name": "stdout",
     "output_type": "stream",
     "text": [
      "Input Features: [Sepal Length: 5.1, Sepal Width: 3.5, Petal Length: 1.4, Petal Width: 0.2]\n",
      "Predicted Species: Iris-setosa\n",
      "Confidence scores: Setosa: 0.9987, Versicolor: 0.0024, Virginica: 0.0000\n"
     ]
    },
    {
     "data": {
      "text/plain": [
       "'Iris-setosa'"
      ]
     },
     "execution_count": 8,
     "metadata": {},
     "output_type": "execute_result"
    }
   ],
   "source": [
    "def predict_iris(sepal_length, sepal_width, petal_length, petal_width):\n",
    "    X_new = np.array([[sepal_length, sepal_width, petal_length, petal_width]])\n",
    "    \n",
    "    _, Y_pred = forward(X_new)\n",
    "    \n",
    "    predicted_class = np.argmax(Y_pred, axis=1)[0]\n",
    "    \n",
    "    iris_species = {\n",
    "        0: 'Iris-setosa',\n",
    "        1: 'Iris-versicolor',\n",
    "        2: 'Iris-virginica'\n",
    "    }\n",
    "    \n",
    "    probabilities = Y_pred[0]\n",
    "    \n",
    "    print(f\"Input Features: [Sepal Length: {sepal_length}, Sepal Width: {sepal_width}, \"\n",
    "          f\"Petal Length: {petal_length}, Petal Width: {petal_width}]\")\n",
    "    print(f\"Predicted Species: {iris_species[predicted_class]}\")\n",
    "    print(f\"Confidence scores: Setosa: {probabilities[0]:.4f}, \"\n",
    "          f\"Versicolor: {probabilities[1]:.4f}, Virginica: {probabilities[2]:.4f}\")\n",
    "    \n",
    "    return iris_species[predicted_class]\n",
    "\n",
    "predict_iris(5.1, 3.5, 1.4, 0.2)"
   ]
  }
 ],
 "metadata": {
  "kernelspec": {
   "display_name": ".venv",
   "language": "python",
   "name": "python3"
  },
  "language_info": {
   "codemirror_mode": {
    "name": "ipython",
    "version": 3
   },
   "file_extension": ".py",
   "mimetype": "text/x-python",
   "name": "python",
   "nbconvert_exporter": "python",
   "pygments_lexer": "ipython3",
   "version": "3.13.2"
  }
 },
 "nbformat": 4,
 "nbformat_minor": 5
}
