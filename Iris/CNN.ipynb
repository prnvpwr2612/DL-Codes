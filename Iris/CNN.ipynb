{
 "cells": [
  {
   "cell_type": "code",
   "execution_count": 1,
   "id": "04a96206",
   "metadata": {},
   "outputs": [],
   "source": [
    "import numpy as np\n",
    "from sklearn.datasets import load_iris\n",
    "from sklearn.model_selection import train_test_split\n",
    "from sklearn.preprocessing import StandardScaler\n",
    "from sklearn.metrics import accuracy_score\n",
    "\n",
    "iris = load_iris()\n",
    "X = iris.data\n",
    "y = iris.target\n",
    "\n",
    "X_reshaped = X.reshape(-1, 2, 2)\n",
    "\n",
    "scaler = StandardScaler()\n",
    "X_scaled = scaler.fit_transform(X.reshape(-1, 4))\n",
    "X_scaled_reshaped = X_scaled.reshape(-1, 2, 2)\n",
    "\n",
    "X_train, X_test, y_train, y_test = train_test_split(X_scaled_reshaped, y, test_size=0.2, random_state=42)"
   ]
  },
  {
   "cell_type": "code",
   "execution_count": null,
   "id": "fb790688",
   "metadata": {},
   "outputs": [],
   "source": [
    "class SimpleCNN:\n",
    "    def __init__(self):\n",
    "        self.filters = np.array([[[1, 0], [0, -1]], [[-1, 1], [1, 0]]])\n",
    "        self.fc_weights = np.random.randn(2, 3)\n",
    "        self.fc_bias = np.random.randn(3)\n",
    "\n",
    "    def relu(self, x):\n",
    "        return np.maximum(0, x)\n",
    "\n",
    "    def softmax(self, x):\n",
    "        e_x = np.exp(x - np.max(x))\n",
    "        return e_x / e_x.sum(axis=1, keepdims=True)\n",
    "\n",
    "    def conv_forward(self, X):\n",
    "        batch_size = X.shape[0]\n",
    "        conv_out = np.zeros((batch_size, 2))\n",
    "        for i in range(batch_size):\n",
    "            for f in range(2):\n",
    "                conv_out[i, f] = np.sum(X[i] * self.filters[f])\n",
    "        return self.relu(conv_out)\n",
    "\n",
    "    def forward(self, X):\n",
    "        conv_out = self.conv_forward(X)\n",
    "        logits = np.dot(conv_out, self.fc_weights) + self.fc_bias\n",
    "        return self.softmax(logits)\n",
    "\n",
    "    def predict(self, X):\n",
    "        probs = self.forward(X)\n",
    "        return np.argmax(probs, axis=1)\n",
    "\n",
    "model = SimpleCNN()"
   ]
  },
  {
   "cell_type": "code",
   "execution_count": null,
   "id": "a05c1200",
   "metadata": {},
   "outputs": [
    {
     "name": "stdout",
     "output_type": "stream",
     "text": [
      "Predicted class: virginica\n"
     ]
    }
   ],
   "source": [
    "def predict_iris(input_features):\n",
    "    input_array = np.array(input_features).reshape(1, 4)\n",
    "    input_scaled = scaler.transform(input_array)\n",
    "    input_reshaped = input_scaled.reshape(1, 2, 2)\n",
    "    pred_class = model.predict(input_reshaped)\n",
    "    return iris.target_names[pred_class[0]]\n",
    "\n",
    "example_input = [5.1, 3.5, 1.4, 0.2]\n",
    "example_prediction = predict_iris(example_input)\n",
    "print(f\"Predicted class: {example_prediction}\")\n"
   ]
  }
 ],
 "metadata": {
  "kernelspec": {
   "display_name": ".venv",
   "language": "python",
   "name": "python3"
  },
  "language_info": {
   "codemirror_mode": {
    "name": "ipython",
    "version": 3
   },
   "file_extension": ".py",
   "mimetype": "text/x-python",
   "name": "python",
   "nbconvert_exporter": "python",
   "pygments_lexer": "ipython3",
   "version": "3.13.2"
  }
 },
 "nbformat": 4,
 "nbformat_minor": 5
}
