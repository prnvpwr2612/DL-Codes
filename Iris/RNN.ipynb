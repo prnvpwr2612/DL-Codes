{
 "cells": [
  {
   "cell_type": "code",
   "execution_count": null,
   "id": "d4bb63bd",
   "metadata": {},
   "outputs": [],
   "source": [
    "import numpy as np\n",
    "from sklearn.datasets import load_iris\n",
    "from sklearn.model_selection import train_test_split\n",
    "from sklearn.preprocessing import OneHotEncoder\n",
    "\n",
    "iris = load_iris()\n",
    "X = iris.data\n",
    "y = iris.target\n",
    "\n",
    "X_seq = X.reshape(X.shape[0], 4, 1)\n",
    "\n",
    "encoder = OneHotEncoder(sparse_output=False)\n",
    "y_onehot = encoder.fit_transform(y.reshape(-1, 1))\n",
    "\n",
    "X_train, X_test, y_train, y_test = train_test_split(X_seq, y_onehot, test_size=0.2, random_state=42)"
   ]
  },
  {
   "cell_type": "code",
   "execution_count": null,
   "id": "dbf36e40",
   "metadata": {},
   "outputs": [],
   "source": [
    "class SimpleRNN:\n",
    "    def __init__(self, input_size, hidden_size, output_size):\n",
    "        self.hidden_size = hidden_size\n",
    "        self.Wx = np.random.randn(hidden_size, input_size) * 0.01\n",
    "        self.Wh = np.random.randn(hidden_size, hidden_size) * 0.01\n",
    "        self.bh = np.zeros((hidden_size, 1))\n",
    "        self.Wy = np.random.randn(output_size, hidden_size) * 0.01\n",
    "        self.by = np.zeros((output_size, 1))\n",
    "\n",
    "    def softmax(self, x):\n",
    "        e_x = np.exp(x - np.max(x))\n",
    "        return e_x / e_x.sum(axis=0)\n",
    "\n",
    "    def forward(self, inputs):\n",
    "        h = np.zeros((self.hidden_size, 1))\n",
    "        for t in range(len(inputs)):\n",
    "            x_t = inputs[t].reshape(-1, 1)\n",
    "            h = np.tanh(np.dot(self.Wx, x_t) + np.dot(self.Wh, h) + self.bh)\n",
    "        y = np.dot(self.Wy, h) + self.by\n",
    "        return self.softmax(y), h\n",
    "\n",
    "    def predict(self, inputs):\n",
    "        y, _ = self.forward(inputs)\n",
    "        return np.argmax(y)\n",
    "\n",
    "    def train(self, X, Y, epochs=100, lr=0.01):\n",
    "        for epoch in range(epochs):\n",
    "            loss = 0\n",
    "            for i in range(len(X)):\n",
    "                inputs = X[i]\n",
    "                target = Y[i].reshape(-1, 1)\n",
    "\n",
    "                h = np.zeros((self.hidden_size, 1))\n",
    "                hs = [h]\n",
    "                xs = []\n",
    "                for t in range(len(inputs)):\n",
    "                    x_t = inputs[t].reshape(-1, 1)\n",
    "                    xs.append(x_t)\n",
    "                    h = np.tanh(np.dot(self.Wx, x_t) + np.dot(self.Wh, h) + self.bh)\n",
    "                    hs.append(h)\n",
    "\n",
    "                y = np.dot(self.Wy, h) + self.by\n",
    "                y_pred = self.softmax(y)\n",
    "\n",
    "                loss += -np.sum(target * np.log(y_pred + 1e-9))\n",
    "\n",
    "                dWy = np.zeros_like(self.Wy)\n",
    "                dby = np.zeros_like(self.by)\n",
    "                dWx = np.zeros_like(self.Wx)\n",
    "                dWh = np.zeros_like(self.Wh)\n",
    "                dbh = np.zeros_like(self.bh)\n",
    "\n",
    "                dy = y_pred - target\n",
    "                dWy += np.dot(dy, hs[-1].T)\n",
    "                dby += dy\n",
    "\n",
    "                dh = np.dot(self.Wy.T, dy)\n",
    "\n",
    "                for t in reversed(range(len(inputs))):\n",
    "                    h_t = hs[t+1]\n",
    "                    h_prev = hs[t]\n",
    "                    dtanh = (1 - h_t ** 2) * dh\n",
    "                    dbh += dtanh\n",
    "                    dWx += np.dot(dtanh, xs[t].T)\n",
    "                    dWh += np.dot(dtanh, h_prev.T)\n",
    "                    dh = np.dot(self.Wh.T, dtanh)\n",
    "\n",
    "                self.Wx -= lr * dWx\n",
    "                self.Wh -= lr * dWh\n",
    "                self.bh -= lr * dbh\n",
    "                self.Wy -= lr * dWy\n",
    "                self.by -= lr * dby\n",
    "\n",
    "            if (epoch + 1) % 10 == 0:\n",
    "                print(f'Epoch {epoch+1}/{epochs}, Loss: {loss/len(X):.4f}')"
   ]
  },
  {
   "cell_type": "code",
   "execution_count": null,
   "id": "92ffe56f",
   "metadata": {},
   "outputs": [
    {
     "name": "stdout",
     "output_type": "stream",
     "text": [
      "Epoch 10/100, Loss: 0.8421\n",
      "Epoch 20/100, Loss: 0.3629\n",
      "Epoch 30/100, Loss: 0.1999\n",
      "Epoch 40/100, Loss: 0.1356\n",
      "Epoch 50/100, Loss: 0.1095\n",
      "Epoch 60/100, Loss: 0.0966\n",
      "Epoch 70/100, Loss: 0.0904\n",
      "Epoch 80/100, Loss: 0.0881\n",
      "Epoch 90/100, Loss: 0.0875\n",
      "Epoch 100/100, Loss: 0.0856\n"
     ]
    }
   ],
   "source": [
    "rnn = SimpleRNN(input_size=1, hidden_size=10, output_size=3)\n",
    "rnn.train(X_train, y_train, epochs=100, lr=0.01)"
   ]
  },
  {
   "cell_type": "code",
   "execution_count": 4,
   "id": "ff114da8",
   "metadata": {},
   "outputs": [
    {
     "name": "stdout",
     "output_type": "stream",
     "text": [
      "Predicted IRIS class: setosa\n"
     ]
    }
   ],
   "source": [
    "def predict_iris(input_features):\n",
    "    input_array = np.array(input_features).reshape(4, 1)\n",
    "    pred_class = rnn.predict(input_array)\n",
    "    return iris.target_names[pred_class]\n",
    "\n",
    "sepal_length = 5.1\n",
    "sepal_width = 3.5\n",
    "petal_length = 1.4\n",
    "petal_width = 0.2\n",
    "\n",
    "example_input = [sepal_length, sepal_width, petal_length, petal_width]\n",
    "predicted_class = predict_iris(example_input)\n",
    "print(f\"Predicted IRIS class: {predicted_class}\")"
   ]
  }
 ],
 "metadata": {
  "kernelspec": {
   "display_name": ".venv",
   "language": "python",
   "name": "python3"
  },
  "language_info": {
   "codemirror_mode": {
    "name": "ipython",
    "version": 3
   },
   "file_extension": ".py",
   "mimetype": "text/x-python",
   "name": "python",
   "nbconvert_exporter": "python",
   "pygments_lexer": "ipython3",
   "version": "3.13.2"
  }
 },
 "nbformat": 4,
 "nbformat_minor": 5
}
